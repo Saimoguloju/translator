{
 "cells": [
  {
   "cell_type": "code",
   "execution_count": 3,
   "metadata": {},
   "outputs": [],
   "source": [
    "from dotenv import load_dotenv\n",
    "load_dotenv()   \n",
    "\n",
    "import streamlit as st\n",
    "import os\n",
    "import google.generativeai as genai"
   ]
  },
  {
   "cell_type": "code",
   "execution_count": 4,
   "metadata": {},
   "outputs": [],
   "source": [
    "genai.configure(api_key=os.getenv(\"GOOGLE_API_KEY\"))"
   ]
  },
  {
   "cell_type": "code",
   "execution_count": 6,
   "metadata": {},
   "outputs": [],
   "source": [
    "# Function to load Gemini Pro model and get responses\n",
    "model = genai.GenerativeModel(\"gemini-pro\")\n",
    "chat = model.start_chat(history=[])\n",
    "\n",
    "def get_gemini_response(question):\n",
    "    \"\"\"\n",
    "    Function to get the Gemini model response.\n",
    "    Args:\n",
    "        question (str): The input question or text.\n",
    "    Returns:\n",
    "        str: The response from the Gemini model.\n",
    "    \"\"\"\n",
    "    response = chat.send_message(question, stream=False)\n",
    "    return response.text"
   ]
  },
  {
   "cell_type": "code",
   "execution_count": 7,
   "metadata": {},
   "outputs": [
    {
     "name": "stdout",
     "output_type": "stream",
     "text": [
      "Welcome to the English-to-Telugu Translator!\n",
      "Type 'exit' to quit.\n",
      "\n",
      "Telugu Translation:\n",
      "ఇంగ్లీషు నుండి తెలుగులోకి అనువదించండి:\n",
      "\n",
      "Chat History:\n",
      "You: \n",
      "Bot: ఇంగ్లీషు నుండి తెలుగులోకి అనువదించండి:\n",
      "\n",
      "Telugu Translation:\n",
      "ఇంగ్లీషు నుండి తెలుగులోకి అనువదించండి:\n",
      "\n",
      "Chat History:\n",
      "You: \n",
      "Bot: ఇంగ్లీషు నుండి తెలుగులోకి అనువదించండి:\n",
      "You: \n",
      "Bot: ఇంగ్లీషు నుండి తెలుగులోకి అనువదించండి:\n",
      "\n",
      "Telugu Translation:\n",
      "ఇంగ్లీషు నుండి తెలుగులోకి అనువదించండి:\n",
      "\n",
      "Chat History:\n",
      "You: \n",
      "Bot: ఇంగ్లీషు నుండి తెలుగులోకి అనువదించండి:\n",
      "You: \n",
      "Bot: ఇంగ్లీషు నుండి తెలుగులోకి అనువదించండి:\n",
      "You: \n",
      "Bot: ఇంగ్లీషు నుండి తెలుగులోకి అనువదించండి:\n",
      "\n",
      "Telugu Translation:\n",
      "ఇంగ్లీషు నుండి తెలుగులోకి అనువదించండి:\n",
      "\n",
      "Chat History:\n",
      "You: \n",
      "Bot: ఇంగ్లీషు నుండి తెలుగులోకి అనువదించండి:\n",
      "You: \n",
      "Bot: ఇంగ్లీషు నుండి తెలుగులోకి అనువదించండి:\n",
      "You: \n",
      "Bot: ఇంగ్లీషు నుండి తెలుగులోకి అనువదించండి:\n",
      "You: \n",
      "Bot: ఇంగ్లీషు నుండి తెలుగులోకి అనువదించండి:\n"
     ]
    }
   ],
   "source": [
    "# Translator interface\n",
    "def english_to_telugu_translator():\n",
    "    \"\"\"\n",
    "    Function to translate English text to Telugu in a loop.\n",
    "    \"\"\"\n",
    "    print(\"Welcome to the English-to-Telugu Translator!\")\n",
    "    print(\"Type 'exit' to quit.\")\n",
    "    chat_history = []\n",
    "\n",
    "    while True:\n",
    "        # Get input from the user\n",
    "        user_input = input(\"\\nEnter your English text: \").strip()\n",
    "        \n",
    "        if user_input.lower() == 'exit':\n",
    "            print(\"\\nThank you for using the translator. Goodbye!\")\n",
    "            break\n",
    "        \n",
    "        # Get response from the Gemini model\n",
    "        query = f\"Translate English to Telugu: {user_input}\"\n",
    "        response = get_gemini_response(query)\n",
    "\n",
    "        # Display the translation\n",
    "        print(\"\\nTelugu Translation:\")\n",
    "        print(response)\n",
    "\n",
    "        # Add to chat history\n",
    "        chat_history.append((\"You\", user_input))\n",
    "        chat_history.append((\"Bot\", response))\n",
    "\n",
    "        # Optionally display the chat history\n",
    "        print(\"\\nChat History:\")\n",
    "        for role, text in chat_history:\n",
    "            print(f\"{role}: {text}\")\n",
    "\n",
    "# Run the translator\n",
    "english_to_telugu_translator()"
   ]
  },
  {
   "cell_type": "code",
   "execution_count": null,
   "metadata": {},
   "outputs": [],
   "source": []
  }
 ],
 "metadata": {
  "kernelspec": {
   "display_name": "test",
   "language": "python",
   "name": "python3"
  },
  "language_info": {
   "codemirror_mode": {
    "name": "ipython",
    "version": 3
   },
   "file_extension": ".py",
   "mimetype": "text/x-python",
   "name": "python",
   "nbconvert_exporter": "python",
   "pygments_lexer": "ipython3",
   "version": "3.12.2"
  }
 },
 "nbformat": 4,
 "nbformat_minor": 2
}
